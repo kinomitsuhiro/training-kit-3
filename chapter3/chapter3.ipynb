{
 "cells": [
  {
   "cell_type": "code",
   "execution_count": 1,
   "metadata": {},
   "outputs": [
    {
     "name": "stdout",
     "output_type": "stream",
     "text": [
      "Hello World\n"
     ]
    }
   ],
   "source": [
    "print(\"Hello World\")"
   ]
  },
  {
   "cell_type": "code",
   "execution_count": 2,
   "metadata": {},
   "outputs": [],
   "source": [
    "from time import sleep\n",
    "from picamera import PiCamera"
   ]
  },
  {
   "cell_type": "markdown",
   "metadata": {},
   "source": [
    "画像をキャプチャして保存するコード"
   ]
  },
  {
   "cell_type": "code",
   "execution_count": 3,
   "metadata": {},
   "outputs": [],
   "source": [
    "camera = PiCamera()\n",
    "camera.resolution = (800, 608)\n",
    "sleep(2)\n",
    "camera.capture('foo.jpg')\n",
    "camera.close()"
   ]
  },
  {
   "cell_type": "markdown",
   "metadata": {},
   "source": [
    "ストリームに画像データを保持するコード"
   ]
  },
  {
   "cell_type": "code",
   "execution_count": 4,
   "metadata": {},
   "outputs": [],
   "source": [
    "from io import BytesIO\n",
    "\n",
    "# メモリ上にストリームを作成する\n",
    "stream = BytesIO()\n",
    "camera = PiCamera()\n",
    "sleep(2)\n",
    "# ストリームに画像データを書き込む\n",
    "camera.capture(stream, format='jpeg')\n",
    "# 画像データを読み込むために最初のバイト位置に巻き戻す\n",
    "stream.seek(0)\n",
    "\n",
    "stream.close()\n",
    "camera.close()"
   ]
  },
  {
   "cell_type": "markdown",
   "metadata": {},
   "source": [
    "NumPy配列に画像データを保持するコード"
   ]
  },
  {
   "cell_type": "code",
   "execution_count": 5,
   "metadata": {},
   "outputs": [],
   "source": [
    "import numpy as np\n",
    "import cv2\n",
    "\n",
    "with PiCamera() as camera:\n",
    "    camera.resolution = (320, 240)\n",
    "    camera.framerate = 24\n",
    "    sleep(2)\n",
    "    image = np.empty((240, 320, 3), dtype=np.uint8)\n",
    "    camera.capture(image, 'bgr')\n",
    "    \n",
    "    gray = cv2.cvtColor(image, cv2.COLOR_BGR2GRAY)\n",
    "    cv2.imwrite('bar.jpg', gray)"
   ]
  },
  {
   "cell_type": "markdown",
   "metadata": {},
   "source": [
    "PiRGBArrayを使った画像データの保持"
   ]
  },
  {
   "cell_type": "code",
   "execution_count": 6,
   "metadata": {},
   "outputs": [],
   "source": [
    "from picamera.array import PiRGBArray\n",
    "\n",
    "camera = PiCamera()\n",
    "camera.resolution = (320, 240)\n",
    "sleep(2)\n",
    "\n",
    "output = PiRGBArray(camera, size=(320, 240))\n",
    "camera.capture(output, format=\"bgr\")\n",
    "\n",
    "frame = output.array\n",
    "# ここで、frameに対して画像処理を行う\n",
    "\n",
    "camera.close()\n",
    "output.close()"
   ]
  },
  {
   "cell_type": "markdown",
   "metadata": {},
   "source": [
    "画像データを連続して読み込むコード"
   ]
  },
  {
   "cell_type": "code",
   "execution_count": 7,
   "metadata": {},
   "outputs": [
    {
     "name": "stdout",
     "output_type": "stream",
     "text": [
      "New image data is rady!\n",
      "New image data is rady!\n",
      "New image data is rady!\n",
      "New image data is rady!\n",
      "New image data is rady!\n",
      "New image data is rady!\n",
      "New image data is rady!\n",
      "New image data is rady!\n",
      "New image data is rady!\n",
      "New image data is rady!\n"
     ]
    }
   ],
   "source": [
    "camera = PiCamera()\n",
    "camera.resolution = (320, 240)\n",
    "sleep(2)\n",
    "raw_capture = PiRGBArray(camera, size=(320, 240))\n",
    "count = 0\n",
    "\n",
    "for output in camera.capture_continuous(raw_capture, format=\"bgr\"):\n",
    "    frame = output.array\n",
    "    raw_capture.truncate(0)\n",
    "    \n",
    "    print(\"New image data is rady!\")\n",
    "    # ここで、frameに対して画像処理を行う\n",
    "    \n",
    "    count += 1\n",
    "    if count >= 10:\n",
    "        break\n",
    "    \n",
    "camera.close()\n",
    "raw_capture.close()"
   ]
  }
 ],
 "metadata": {
  "kernelspec": {
   "display_name": "Python 3",
   "language": "python",
   "name": "python3"
  },
  "language_info": {
   "codemirror_mode": {
    "name": "ipython",
    "version": 3
   },
   "file_extension": ".py",
   "mimetype": "text/x-python",
   "name": "python",
   "nbconvert_exporter": "python",
   "pygments_lexer": "ipython3",
   "version": "3.5.3"
  }
 },
 "nbformat": 4,
 "nbformat_minor": 2
}
